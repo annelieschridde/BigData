{
 "cells": [
  {
   "cell_type": "code",
   "execution_count": 2,
   "metadata": {},
   "outputs": [],
   "source": [
    "# import symbolic capability to Python\n",
    "from sympy import *\n",
    "# print things all pretty\n",
    "from sympy.abc import *\n",
    "from sympy.plotting import plot\n",
    "import matplotlib.pyplot as plt\n",
    "import numpy as np\n",
    "from IPython.display import display\n",
    "init_printing()"
   ]
  },
  {
   "cell_type": "markdown",
   "metadata": {},
   "source": [
    "# Exercise\n",
    "\n",
    "You have a dataset with $m$ binary columns and $n$ rows. A given decision tree has the depth $d$.\n",
    "\n",
    "## Questions:\n",
    "1. How many different decision trees with depth $d=1$ are possible for a dataset with $m$ binary columns and $n$ rows?\n",
    "2. How many different decision trees with depth $d=2$ are possible for a dataset with $m$ binary columns and $n$ rows?\n",
    "3. How many different decision trees with depth $d=3$ are possible for a dataset with $m$ binary columns and $n$ rows?\n",
    "4. How many different decision trees with depth $d=4$ are possible for a dataset with $m$ binary columns and $n$ rows?\n",
    "5. In general, how many different decision trees with depth $d$ are possible for a dataset with $m$ binary columns and $n$ rows?\n",
    "6. How may different decision trees are possible for $m=4$ and $d=4$?\n",
    "7. In general, how many different decision trees of any depth are possible for a dataset with $m$ binary columns and $n$ rows?\n",
    "8. How many decision trees are possible for $m=4$ binary columns?\n",
    "9. There are $10^{80}$ atoms in the universe. What is the value for $m$ so that the number of decision trees is greater than the number of atoms in the universe?\n",
    "10. How many operations (steps) does the naive testing take of all possible decision trees for a dataset with $m$ binary columns and $n$ rows?\n",
    "11. How many operations (steps) does the naive testing take of all possible decision trees for a dataset with $m=3$ binary columns and $n=100$ rows?"
   ]
  },
  {
   "cell_type": "markdown",
   "metadata": {},
   "source": [
    "Variables:\n",
    "* $n$: number of rows of the data\n",
    "* $m$: number of binary columns (attributes) of the data\n",
    "* $d$: depth of the decision tree"
   ]
  },
  {
   "cell_type": "code",
   "execution_count": 3,
   "metadata": {},
   "outputs": [],
   "source": [
    "m = symbols(\"m\", positive=True, integer=True)\n",
    "d = symbols(\"d\", positive=True, integer=True)\n",
    "n = symbols(\"n\", positive=True, integer=True)"
   ]
  },
  {
   "cell_type": "markdown",
   "metadata": {},
   "source": [
    "## Answers:\n",
    "\n",
    "This is a variation problem, we are lookin at k out of n objects. There is no repitition but we consider the order of the objects. The formula for this combinatorics problem is $m$!/($m$-$k$)!.\n",
    "Here k describes the size of the tree while m describes the number of columns within the data set.\n",
    "\n",
    "In order to determine the size of the tree I used this blog entry to understand how to calculate the size: https://cs.stackexchange.com/questions/39679/size-of-decision-tree-and-depth-of-decision-tree#:~:text=The%20size%20of%20a%20decision%20tree%20is%20the,decision%29%2C%20then%20the%20size%20can%20be%20even%20larger.\n",
    "\n",
    "With this we end up with a formula for k = 2**(d+1)-1.\n",
    "\n",
    "1. k = 2**(1+1)-1 = 3; m!/(m-3)!\n",
    "2. k = 2**(2+1)-1 = 7; m!/(m-7)!\n",
    "3. k = 2**(3+1)-1 = 15; m!/(m-15)!\n",
    "4. k = 2**(4+1)-1 = 31; m!/(m-31)!\n",
    "5. k = 2**(d+1)-1 ; m!/(m-k)!"
   ]
  },
  {
   "cell_type": "code",
   "execution_count": 4,
   "metadata": {},
   "outputs": [
    {
     "name": "stdout",
     "output_type": "stream",
     "text": [
      "0\n"
     ]
    }
   ],
   "source": [
    "# Question 6: with only m = 4 columns the tree will not be able to reach the depth of d = 4. Therefore it is zero.\n",
    "q_6 = factorial(4)/factorial(4-31)\n",
    "print(q_6)"
   ]
  },
  {
   "cell_type": "code",
   "execution_count": null,
   "metadata": {},
   "outputs": [],
   "source": [
    "# Question 7: See answer 5."
   ]
  },
  {
   "cell_type": "code",
   "execution_count": 15,
   "metadata": {},
   "outputs": [
    {
     "name": "stdout",
     "output_type": "stream",
     "text": [
      "28\n"
     ]
    }
   ],
   "source": [
    "# Question 8: \n",
    "q_8 = factorial(4)/factorial(4-1)+factorial(4)/factorial(4-3)\n",
    "print(q_8)"
   ]
  },
  {
   "cell_type": "code",
   "execution_count": 32,
   "metadata": {},
   "outputs": [
    {
     "name": "stdout",
     "output_type": "stream",
     "text": [
      "1 0\n",
      "2 2\n",
      "3 3\n",
      "4 28\n",
      "5 65\n",
      "6 126\n",
      "7 217\n",
      "8 40664\n",
      "9 181953\n",
      "10 605530\n",
      "11 1664201\n",
      "12 3993012\n",
      "13 8650369\n",
      "14 17299478\n",
      "15 32435145\n",
      "16 20922847548976\n",
      "17 177843812070017\n",
      "18 1067062444685874\n",
      "19 5068546104329353\n",
      "20 20274183792179660\n",
      "21 70959642491211201\n",
      "22 223016018275743022\n",
      "23 641171051307153929\n",
      "24 1709789468601848328\n",
      "25 4274473669566421825\n",
      "26 10103301398382207626\n",
      "27 22732428143376168777\n",
      "28 48962152920522461284\n",
      "29 101421602473730033153\n",
      "30 202843204941987816390\n",
      "31 393008709568474845001\n",
      "32 263130836933694269948318368364904032\n",
      "33 4341658809405944604024447844112914689\n",
      "34 49205466506600692568270922045560660578\n",
      "35 430547831932756042983362491483614500105\n",
      "36 3099944389915843486180998862532614430076\n",
      "37 19116323737814368132128628977453560905537\n",
      "38 103774328862420855528169346164255780220894\n",
      "39 505899853204301670634073496708405962857353\n",
      "40 2248443792019118536057923713950555088209720\n",
      "41 9218619547278385997704769211220317414769601\n",
      "42 35198365544153837445594164036409237397530042\n",
      "43 126127476533217917513114880635697705497736649\n",
      "44 426892997497045259274788027347247800116350228\n",
      "45 1372156063383359761954160402995816857744281985\n",
      "46 4207945261042303269992044769016210755020670326\n",
      "47 12360839204311765855600648639609089008313284297\n",
      "48 34901193047468515356988721214723718280705218704\n",
      "49 95008803295886514027356354109859468495185965953\n",
      "50 250023166568122405335145821676773656873941653650\n",
      "51 637559074748712133604618509476678420806549189001\n",
      "52 1578717708901572902259050891894557402021080075052\n",
      "53 3803274480535607446351343931622673766179699823809\n",
      "54 8929427041257513134911843097171531885599751131278\n",
      "55 20463270302881800934172963390395850935672706611465\n",
      "56 45837725478455234092547424391953735803342283382376\n",
      "57 100490398164305705510584720339494286489517162709057\n",
      "58 215868262723323367393107894710471217885864817108714\n",
      "59 454865267881288524149763034042544223504131584122953\n",
      "60 941100554237148670654682101020134549909968284042180\n",
      "61 1913571126948868963664520222877828773777830052307201\n",
      "62 3827142253897737927329040382951685448357128703393062\n",
      "63 7534686312361171544429048174081861514386562995780169\n",
      "It only takes an m of: 64\n"
     ]
    }
   ],
   "source": [
    "# Q9: \n",
    "def maxdepth(x, depth = 1):\n",
    "    while ((2**depth+1)-1) <= x:\n",
    "            depth += 1\n",
    "    return (depth -1)\n",
    "\n",
    "def DiffTrees(y):\n",
    "    count = 0\n",
    "    for i in range (maxdepth(y)):\n",
    "        count += factorial(y)/factorial(y-((2**(i+1)-1)))\n",
    "    return count\n",
    "\n",
    "t = 1\n",
    "while DiffTrees(t) < (10**80):\n",
    "    print(t, DiffTrees(t))\n",
    "    t += 1\n",
    "\n",
    "print(\"It only takes an m of:\",t)"
   ]
  },
  {
   "cell_type": "code",
   "execution_count": null,
   "metadata": {},
   "outputs": [],
   "source": []
  }
 ],
 "metadata": {
  "kernelspec": {
   "display_name": "Python 3",
   "language": "python",
   "name": "python3"
  },
  "language_info": {
   "codemirror_mode": {
    "name": "ipython",
    "version": 3
   },
   "file_extension": ".py",
   "mimetype": "text/x-python",
   "name": "python",
   "nbconvert_exporter": "python",
   "pygments_lexer": "ipython3",
   "version": "3.7.6"
  },
  "varInspector": {
   "cols": {
    "lenName": 16,
    "lenType": 16,
    "lenVar": 40
   },
   "kernels_config": {
    "python": {
     "delete_cmd_postfix": "",
     "delete_cmd_prefix": "del ",
     "library": "var_list.py",
     "varRefreshCmd": "print(var_dic_list())"
    },
    "r": {
     "delete_cmd_postfix": ") ",
     "delete_cmd_prefix": "rm(",
     "library": "var_list.r",
     "varRefreshCmd": "cat(var_dic_list()) "
    }
   },
   "types_to_exclude": [
    "module",
    "function",
    "builtin_function_or_method",
    "instance",
    "_Feature"
   ],
   "window_display": false
  }
 },
 "nbformat": 4,
 "nbformat_minor": 2
}
