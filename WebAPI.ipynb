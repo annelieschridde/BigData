{
 "metadata": {
  "language_info": {
   "codemirror_mode": {
    "name": "ipython",
    "version": 3
   },
   "file_extension": ".py",
   "mimetype": "text/x-python",
   "name": "python",
   "nbconvert_exporter": "python",
   "pygments_lexer": "ipython3",
   "version": "3.8.2"
  },
  "orig_nbformat": 2,
  "kernelspec": {
   "name": "python382jvsc74a57bd01baa965d5efe3ac65b79dfc60c0d706280b1da80fedb7760faf2759126c4f253",
   "display_name": "Python 3.8.2 64-bit"
  },
  "metadata": {
   "interpreter": {
    "hash": "1baa965d5efe3ac65b79dfc60c0d706280b1da80fedb7760faf2759126c4f253"
   }
  }
 },
 "nbformat": 4,
 "nbformat_minor": 2,
 "cells": [
  {
   "cell_type": "code",
   "execution_count": 1,
   "metadata": {},
   "outputs": [],
   "source": [
    "import requests\n",
    "import json"
   ]
  },
  {
   "cell_type": "code",
   "execution_count": 2,
   "metadata": {},
   "outputs": [],
   "source": [
    "response= requests.get(\"https://api.randomuser.me/\")"
   ]
  },
  {
   "cell_type": "code",
   "execution_count": 3,
   "metadata": {},
   "outputs": [
    {
     "output_type": "stream",
     "name": "stdout",
     "text": [
      "200\n"
     ]
    }
   ],
   "source": [
    "print(response.status_code)"
   ]
  },
  {
   "cell_type": "code",
   "execution_count": 51,
   "metadata": {},
   "outputs": [],
   "source": [
    "parameters={\"results\":10,\"gender\":\"male\", \"nat\":\"US\"}"
   ]
  },
  {
   "cell_type": "code",
   "execution_count": 52,
   "metadata": {},
   "outputs": [],
   "source": [
    "response=requests.get(\"https://api.randomuser.me/\",params=parameters)"
   ]
  },
  {
   "cell_type": "code",
   "execution_count": 53,
   "metadata": {},
   "outputs": [
    {
     "output_type": "execute_result",
     "data": {
      "text/plain": [
       "'{\"results\":[{\"gender\":\"male\",\"name\":{\"title\":\"Mr\",\"first\":\"Chris\",\"last\":\"Owens\"},\"location\":{\"street\":{\"number\":1462,\"name\":\"Oak Lawn Ave\"},\"city\":\"North Charleston\",\"state\":\"Maryland\",\"country\":\"United States\",\"postcode\":34021,\"coordinates\":{\"latitude\":\"60.7810\",\"longitude\":\"-120.7891\"},\"timezone\":{\"offset\":\"-4:00\",\"description\":\"Atlantic Time (Canada), Caracas, La Paz\"}},\"email\":\"chris.owens@example.com\",\"login\":{\"uuid\":\"a429964b-2cd8-4be8-a34f-d8dcdabe54ad\",\"username\":\"brownelephant985\",\"password\":\"hammer\",\"salt\":\"SiVZGR6H\",\"md5\":\"d273083ffe462fc5695f093d6cd4e45e\",\"sha1\":\"d38897882bb3ca10498537d718f046b35daf7ec6\",\"sha256\":\"6832a713ea18d477e190a665351231927523f4ac569c6b096ff0e1b3186c3399\"},\"dob\":{\"date\":\"1990-08-02T05:56:39.772Z\",\"age\":31},\"registered\":{\"date\":\"2011-07-19T17:49:53.718Z\",\"age\":10},\"phone\":\"(786)-783-3684\",\"cell\":\"(962)-832-0358\",\"id\":{\"name\":\"SSN\",\"value\":\"625-64-5192\"},\"picture\":{\"large\":\"https://randomuser.me/api/portraits/men/82.jpg\",\"medium\":\"https://randomuser.me/api/portraits/med/men/82.jpg\",\"thumbnail\":\"https://randomuser.me/api/portraits/thumb/men/82.jpg\"},\"nat\":\"US\"},{\"gender\":\"male\",\"name\":{\"title\":\"Mr\",\"first\":\"Ron\",\"last\":\"Rodriquez\"},\"location\":{\"street\":{\"number\":3167,\"name\":\"Smokey Ln\"},\"city\":\"Rio Rancho\",\"state\":\"North Dakota\",\"country\":\"United States\",\"postcode\":41591,\"coordinates\":{\"latitude\":\"-16.6659\",\"longitude\":\"145.4044\"},\"timezone\":{\"offset\":\"+4:30\",\"description\":\"Kabul\"}},\"email\":\"ron.rodriquez@example.com\",\"login\":{\"uuid\":\"a3d54068-d938-4a78-af34-dca5cba53a43\",\"username\":\"goldenduck774\",\"password\":\"minnie\",\"salt\":\"mPtnnzZd\",\"md5\":\"80c6ef04db09df4fc4c4dcf35d4dae1f\",\"sha1\":\"479b448b4bd328c6e0cc9d44b0251bcf86b2144a\",\"sha256\":\"d5b2aa8f5686cf1e2001896dee6c61cc3ec6f5b5b1d588fc70caa77c8e4a9949\"},\"dob\":{\"date\":\"1985-08-10T14:28:55.280Z\",\"age\":36},\"registered\":{\"date\":\"2014-01-27T06:22:19.912Z\",\"age\":7},\"phone\":\"(064)-047-9633\",\"cell\":\"(040)-016-6281\",\"id\":{\"name\":\"SSN\",\"value\":\"768-76-7226\"},\"picture\":{\"large\":\"https://randomuser.me/api/portraits/men/81.jpg\",\"medium\":\"https://randomuser.me/api/portraits/med/men/81.jpg\",\"thumbnail\":\"https://randomuser.me/api/portraits/thumb/men/81.jpg\"},\"nat\":\"US\"},{\"gender\":\"male\",\"name\":{\"title\":\"Mr\",\"first\":\"Dustin\",\"last\":\"Tucker\"},\"location\":{\"street\":{\"number\":9688,\"name\":\"Northaven Rd\"},\"city\":\"Louisville\",\"state\":\"Alaska\",\"country\":\"United States\",\"postcode\":92141,\"coordinates\":{\"latitude\":\"-50.0473\",\"longitude\":\"-32.5398\"},\"timezone\":{\"offset\":\"-3:30\",\"description\":\"Newfoundland\"}},\"email\":\"dustin.tucker@example.com\",\"login\":{\"uuid\":\"d0953bca-d096-407c-aa66-06011aa3d2ca\",\"username\":\"whiteleopard744\",\"password\":\"prophet\",\"salt\":\"tuTiACJ4\",\"md5\":\"0778987eb0a864d19a721d3187e9dbb7\",\"sha1\":\"5c664682d6e9cde9984cf39f9af3a6075554d750\",\"sha256\":\"fa4077c9200f2e83a91db3363a185b5fcbcccab2645989e9fc72e8b7fa517ce0\"},\"dob\":{\"date\":\"1962-05-12T19:20:01.805Z\",\"age\":59},\"registered\":{\"date\":\"2014-02-21T06:16:59.280Z\",\"age\":7},\"phone\":\"(785)-958-5821\",\"cell\":\"(073)-757-1549\",\"id\":{\"name\":\"SSN\",\"value\":\"053-45-5003\"},\"picture\":{\"large\":\"https://randomuser.me/api/portraits/men/68.jpg\",\"medium\":\"https://randomuser.me/api/portraits/med/men/68.jpg\",\"thumbnail\":\"https://randomuser.me/api/portraits/thumb/men/68.jpg\"},\"nat\":\"US\"},{\"gender\":\"male\",\"name\":{\"title\":\"Mr\",\"first\":\"Douglas\",\"last\":\"Stevens\"},\"location\":{\"street\":{\"number\":3335,\"name\":\"Royal Ln\"},\"city\":\"Glendale\",\"state\":\"Nevada\",\"country\":\"United States\",\"postcode\":30966,\"coordinates\":{\"latitude\":\"60.1498\",\"longitude\":\"82.0891\"},\"timezone\":{\"offset\":\"-8:00\",\"description\":\"Pacific Time (US & Canada)\"}},\"email\":\"douglas.stevens@example.com\",\"login\":{\"uuid\":\"ac34974e-5f88-40e5-9b26-79ebf8b5aabc\",\"username\":\"organicgorilla700\",\"password\":\"bonovox\",\"salt\":\"24WQsaa7\",\"md5\":\"53e08cb26704dd77737779551a03e036\",\"sha1\":\"0ca3d7db1c5573e173a0d8e4faeb43011ab929d7\",\"sha256\":\"b74eefb08e089b670208ce27b1e2ff89e840b6f6ca34bf14e7a9dc412c33e8dc\"},\"dob\":{\"date\":\"1965-01-01T08:18:18.071Z\",\"age\":56},\"registered\":{\"date\":\"2010-09-26T12:49:36.117Z\",\"age\":11},\"phone\":\"(105)-867-8885\",\"cell\":\"(911)-622-7606\",\"id\":{\"name\":\"SSN\",\"value\":\"600-34-5304\"},\"picture\":{\"large\":\"https://randomuser.me/api/portraits/men/11.jpg\",\"medium\":\"https://randomuser.me/api/portraits/med/men/11.jpg\",\"thumbnail\":\"https://randomuser.me/api/portraits/thumb/men/11.jpg\"},\"nat\":\"US\"},{\"gender\":\"male\",\"name\":{\"title\":\"Mr\",\"first\":\"Lucas\",\"last\":\"Scott\"},\"location\":{\"street\":{\"number\":2091,\"name\":\"Dogwood Ave\"},\"city\":\"Anna\",\"state\":\"Iowa\",\"country\":\"United States\",\"postcode\":36868,\"coordinates\":{\"latitude\":\"3.9400\",\"longitude\":\"179.2198\"},\"timezone\":{\"offset\":\"+3:30\",\"description\":\"Tehran\"}},\"email\":\"lucas.scott@example.com\",\"login\":{\"uuid\":\"8d9d310b-6b9c-4196-b185-788015c4d25b\",\"username\":\"goldenpeacock981\",\"password\":\"renee\",\"salt\":\"rs2sH3OR\",\"md5\":\"c7e141ddec4c349062c03a0e8e1a071c\",\"sha1\":\"f68b015473454bdb2d21727cd15b25fa6d6ebc44\",\"sha256\":\"bc462d9590b0134f65669b88355877a402382fa73a08968ecacf9996967b0ed4\"},\"dob\":{\"date\":\"1961-03-09T05:03:29.091Z\",\"age\":60},\"registered\":{\"date\":\"2005-05-05T18:05:49.107Z\",\"age\":16},\"phone\":\"(258)-742-0967\",\"cell\":\"(012)-935-8194\",\"id\":{\"name\":\"SSN\",\"value\":\"340-98-3252\"},\"picture\":{\"large\":\"https://randomuser.me/api/portraits/men/65.jpg\",\"medium\":\"https://randomuser.me/api/portraits/med/men/65.jpg\",\"thumbnail\":\"https://randomuser.me/api/portraits/thumb/men/65.jpg\"},\"nat\":\"US\"},{\"gender\":\"male\",\"name\":{\"title\":\"Mr\",\"first\":\"Carlos\",\"last\":\"Wallace\"},\"location\":{\"street\":{\"number\":7432,\"name\":\"Adams St\"},\"city\":\"Surrey\",\"state\":\"Louisiana\",\"country\":\"United States\",\"postcode\":23965,\"coordinates\":{\"latitude\":\"-24.5802\",\"longitude\":\"21.5875\"},\"timezone\":{\"offset\":\"-5:00\",\"description\":\"Eastern Time (US & Canada), Bogota, Lima\"}},\"email\":\"carlos.wallace@example.com\",\"login\":{\"uuid\":\"3deca400-e296-4a67-9209-dacdce9f1294\",\"username\":\"brownbear690\",\"password\":\"shelby\",\"salt\":\"0dMJl8kS\",\"md5\":\"7793146d02a8385ba481606cd9bdbda8\",\"sha1\":\"2a61dbaf46eb3e181793e42d528cd2f81b72f5af\",\"sha256\":\"461025fe37b01653e69475ed9821dcbe3565e1d1f65f78b8538f30bba3741f2c\"},\"dob\":{\"date\":\"1971-11-29T04:29:25.102Z\",\"age\":50},\"registered\":{\"date\":\"2017-03-23T05:32:35.013Z\",\"age\":4},\"phone\":\"(220)-446-4409\",\"cell\":\"(328)-128-0313\",\"id\":{\"name\":\"SSN\",\"value\":\"232-67-1831\"},\"picture\":{\"large\":\"https://randomuser.me/api/portraits/men/56.jpg\",\"medium\":\"https://randomuser.me/api/portraits/med/men/56.jpg\",\"thumbnail\":\"https://randomuser.me/api/portraits/thumb/men/56.jpg\"},\"nat\":\"US\"},{\"gender\":\"male\",\"name\":{\"title\":\"Mr\",\"first\":\"Brent\",\"last\":\"Sims\"},\"location\":{\"street\":{\"number\":6331,\"name\":\"Spring St\"},\"city\":\"Minneapolis\",\"state\":\"Alabama\",\"country\":\"United States\",\"postcode\":23633,\"coordinates\":{\"latitude\":\"-48.6464\",\"longitude\":\"84.6235\"},\"timezone\":{\"offset\":\"-9:00\",\"description\":\"Alaska\"}},\"email\":\"brent.sims@example.com\",\"login\":{\"uuid\":\"b1990067-8406-46ad-9320-4444d48eabb5\",\"username\":\"beautifuldog822\",\"password\":\"toledo\",\"salt\":\"9Gdwf5Gv\",\"md5\":\"9fa8c30584cd83becd92ae88c06b81a4\",\"sha1\":\"526f726574a26dbdc7202f6f47c913753551c7a4\",\"sha256\":\"a273da6897c2155fabf59541202fc71bd9c2bef6b1c9efbac9ae6a1d7e440cfc\"},\"dob\":{\"date\":\"1989-06-05T19:28:24.304Z\",\"age\":32},\"registered\":{\"date\":\"2007-08-21T01:46:30.143Z\",\"age\":14},\"phone\":\"(509)-033-0709\",\"cell\":\"(246)-135-4436\",\"id\":{\"name\":\"SSN\",\"value\":\"273-89-0692\"},\"picture\":{\"large\":\"https://randomuser.me/api/portraits/men/96.jpg\",\"medium\":\"https://randomuser.me/api/portraits/med/men/96.jpg\",\"thumbnail\":\"https://randomuser.me/api/portraits/thumb/men/96.jpg\"},\"nat\":\"US\"},{\"gender\":\"male\",\"name\":{\"title\":\"Mr\",\"first\":\"Cory\",\"last\":\"Hunt\"},\"location\":{\"street\":{\"number\":4420,\"name\":\"Sunset St\"},\"city\":\"Oceanside\",\"state\":\"Oklahoma\",\"country\":\"United States\",\"postcode\":45803,\"coordinates\":{\"latitude\":\"44.4005\",\"longitude\":\"172.4645\"},\"timezone\":{\"offset\":\"-2:00\",\"description\":\"Mid-Atlantic\"}},\"email\":\"cory.hunt@example.com\",\"login\":{\"uuid\":\"42a38ec6-40fa-4c02-bf58-e2f7571fd538\",\"username\":\"ticklishelephant415\",\"password\":\"carmel\",\"salt\":\"Jgrz9mbL\",\"md5\":\"6beda455adf7716254b9ff5f91f4b327\",\"sha1\":\"a7a3c5cb46ca815dc71836f40db1608d4b361251\",\"sha256\":\"81e39639b9697e2ee3caa300f066ca4cbe700b6a816e1c75190c19902f89a91f\"},\"dob\":{\"date\":\"1989-05-08T15:17:22.550Z\",\"age\":32},\"registered\":{\"date\":\"2013-04-28T18:40:38.246Z\",\"age\":8},\"phone\":\"(964)-469-7986\",\"cell\":\"(688)-772-3989\",\"id\":{\"name\":\"SSN\",\"value\":\"364-51-4767\"},\"picture\":{\"large\":\"https://randomuser.me/api/portraits/men/72.jpg\",\"medium\":\"https://randomuser.me/api/portraits/med/men/72.jpg\",\"thumbnail\":\"https://randomuser.me/api/portraits/thumb/men/72.jpg\"},\"nat\":\"US\"},{\"gender\":\"male\",\"name\":{\"title\":\"Mr\",\"first\":\"Lester\",\"last\":\"Gregory\"},\"location\":{\"street\":{\"number\":6696,\"name\":\"Harrison Ct\"},\"city\":\"Wichita Falls\",\"state\":\"Alabama\",\"country\":\"United States\",\"postcode\":48620,\"coordinates\":{\"latitude\":\"-46.4489\",\"longitude\":\"53.1119\"},\"timezone\":{\"offset\":\"+5:00\",\"description\":\"Ekaterinburg, Islamabad, Karachi, Tashkent\"}},\"email\":\"lester.gregory@example.com\",\"login\":{\"uuid\":\"2e3b0e52-f099-43f2-bc30-a8d933077977\",\"username\":\"blacksnake961\",\"password\":\"startrek\",\"salt\":\"cISZT9V3\",\"md5\":\"a548358eb935e0a33afe344dede909e0\",\"sha1\":\"f20b0e453d5512d495b680bc21d39c9de475bfea\",\"sha256\":\"38af9fff1475c631b6b734dc6d82809eba8b5733ef8393b39fe7de4e9aac2d1b\"},\"dob\":{\"date\":\"1985-09-10T11:34:47.164Z\",\"age\":36},\"registered\":{\"date\":\"2012-06-18T07:11:21.154Z\",\"age\":9},\"phone\":\"(550)-465-3082\",\"cell\":\"(624)-103-6643\",\"id\":{\"name\":\"SSN\",\"value\":\"238-00-3354\"},\"picture\":{\"large\":\"https://randomuser.me/api/portraits/men/89.jpg\",\"medium\":\"https://randomuser.me/api/portraits/med/men/89.jpg\",\"thumbnail\":\"https://randomuser.me/api/portraits/thumb/men/89.jpg\"},\"nat\":\"US\"},{\"gender\":\"male\",\"name\":{\"title\":\"Mr\",\"first\":\"Wesley\",\"last\":\"Richards\"},\"location\":{\"street\":{\"number\":8710,\"name\":\"Brown Terrace\"},\"city\":\"Alexandria\",\"state\":\"Florida\",\"country\":\"United States\",\"postcode\":59554,\"coordinates\":{\"latitude\":\"-81.1372\",\"longitude\":\"153.5878\"},\"timezone\":{\"offset\":\"-3:30\",\"description\":\"Newfoundland\"}},\"email\":\"wesley.richards@example.com\",\"login\":{\"uuid\":\"64d13e16-1535-43bc-ad52-b1d2ac802f80\",\"username\":\"silvergorilla428\",\"password\":\"monarch\",\"salt\":\"xfKOAU79\",\"md5\":\"a5c83177a147a7752f47d77042f65005\",\"sha1\":\"c5ba007749489145b2482a9d8583805f03118992\",\"sha256\":\"231b80d3cbf7307f29520317a1f5ac18c65bd8386e777c5e9cf2282ebb572d67\"},\"dob\":{\"date\":\"1976-11-30T07:55:08.725Z\",\"age\":45},\"registered\":{\"date\":\"2008-02-10T03:30:30.573Z\",\"age\":13},\"phone\":\"(457)-382-3506\",\"cell\":\"(096)-937-6954\",\"id\":{\"name\":\"SSN\",\"value\":\"838-85-7295\"},\"picture\":{\"large\":\"https://randomuser.me/api/portraits/men/40.jpg\",\"medium\":\"https://randomuser.me/api/portraits/med/men/40.jpg\",\"thumbnail\":\"https://randomuser.me/api/portraits/thumb/men/40.jpg\"},\"nat\":\"US\"}],\"info\":{\"seed\":\"45beb2d965f640d2\",\"results\":10,\"page\":1,\"version\":\"1.3\"}}'"
      ]
     },
     "metadata": {},
     "execution_count": 53
    }
   ],
   "source": [
    "response.text"
   ]
  },
  {
   "cell_type": "code",
   "execution_count": 54,
   "metadata": {},
   "outputs": [],
   "source": [
    "data = json.loads(response.text)"
   ]
  },
  {
   "cell_type": "code",
   "execution_count": 55,
   "metadata": {},
   "outputs": [
    {
     "output_type": "execute_result",
     "data": {
      "text/plain": [
       "dict"
      ]
     },
     "metadata": {},
     "execution_count": 55
    }
   ],
   "source": [
    "# Check the type of variable data\n",
    "\n",
    "type(data)"
   ]
  },
  {
   "cell_type": "code",
   "execution_count": 56,
   "metadata": {},
   "outputs": [
    {
     "output_type": "execute_result",
     "data": {
      "text/plain": [
       "{'results': [{'gender': 'male',\n",
       "   'name': {'title': 'Mr', 'first': 'Chris', 'last': 'Owens'},\n",
       "   'location': {'street': {'number': 1462, 'name': 'Oak Lawn Ave'},\n",
       "    'city': 'North Charleston',\n",
       "    'state': 'Maryland',\n",
       "    'country': 'United States',\n",
       "    'postcode': 34021,\n",
       "    'coordinates': {'latitude': '60.7810', 'longitude': '-120.7891'},\n",
       "    'timezone': {'offset': '-4:00',\n",
       "     'description': 'Atlantic Time (Canada), Caracas, La Paz'}},\n",
       "   'email': 'chris.owens@example.com',\n",
       "   'login': {'uuid': 'a429964b-2cd8-4be8-a34f-d8dcdabe54ad',\n",
       "    'username': 'brownelephant985',\n",
       "    'password': 'hammer',\n",
       "    'salt': 'SiVZGR6H',\n",
       "    'md5': 'd273083ffe462fc5695f093d6cd4e45e',\n",
       "    'sha1': 'd38897882bb3ca10498537d718f046b35daf7ec6',\n",
       "    'sha256': '6832a713ea18d477e190a665351231927523f4ac569c6b096ff0e1b3186c3399'},\n",
       "   'dob': {'date': '1990-08-02T05:56:39.772Z', 'age': 31},\n",
       "   'registered': {'date': '2011-07-19T17:49:53.718Z', 'age': 10},\n",
       "   'phone': '(786)-783-3684',\n",
       "   'cell': '(962)-832-0358',\n",
       "   'id': {'name': 'SSN', 'value': '625-64-5192'},\n",
       "   'picture': {'large': 'https://randomuser.me/api/portraits/men/82.jpg',\n",
       "    'medium': 'https://randomuser.me/api/portraits/med/men/82.jpg',\n",
       "    'thumbnail': 'https://randomuser.me/api/portraits/thumb/men/82.jpg'},\n",
       "   'nat': 'US'},\n",
       "  {'gender': 'male',\n",
       "   'name': {'title': 'Mr', 'first': 'Ron', 'last': 'Rodriquez'},\n",
       "   'location': {'street': {'number': 3167, 'name': 'Smokey Ln'},\n",
       "    'city': 'Rio Rancho',\n",
       "    'state': 'North Dakota',\n",
       "    'country': 'United States',\n",
       "    'postcode': 41591,\n",
       "    'coordinates': {'latitude': '-16.6659', 'longitude': '145.4044'},\n",
       "    'timezone': {'offset': '+4:30', 'description': 'Kabul'}},\n",
       "   'email': 'ron.rodriquez@example.com',\n",
       "   'login': {'uuid': 'a3d54068-d938-4a78-af34-dca5cba53a43',\n",
       "    'username': 'goldenduck774',\n",
       "    'password': 'minnie',\n",
       "    'salt': 'mPtnnzZd',\n",
       "    'md5': '80c6ef04db09df4fc4c4dcf35d4dae1f',\n",
       "    'sha1': '479b448b4bd328c6e0cc9d44b0251bcf86b2144a',\n",
       "    'sha256': 'd5b2aa8f5686cf1e2001896dee6c61cc3ec6f5b5b1d588fc70caa77c8e4a9949'},\n",
       "   'dob': {'date': '1985-08-10T14:28:55.280Z', 'age': 36},\n",
       "   'registered': {'date': '2014-01-27T06:22:19.912Z', 'age': 7},\n",
       "   'phone': '(064)-047-9633',\n",
       "   'cell': '(040)-016-6281',\n",
       "   'id': {'name': 'SSN', 'value': '768-76-7226'},\n",
       "   'picture': {'large': 'https://randomuser.me/api/portraits/men/81.jpg',\n",
       "    'medium': 'https://randomuser.me/api/portraits/med/men/81.jpg',\n",
       "    'thumbnail': 'https://randomuser.me/api/portraits/thumb/men/81.jpg'},\n",
       "   'nat': 'US'},\n",
       "  {'gender': 'male',\n",
       "   'name': {'title': 'Mr', 'first': 'Dustin', 'last': 'Tucker'},\n",
       "   'location': {'street': {'number': 9688, 'name': 'Northaven Rd'},\n",
       "    'city': 'Louisville',\n",
       "    'state': 'Alaska',\n",
       "    'country': 'United States',\n",
       "    'postcode': 92141,\n",
       "    'coordinates': {'latitude': '-50.0473', 'longitude': '-32.5398'},\n",
       "    'timezone': {'offset': '-3:30', 'description': 'Newfoundland'}},\n",
       "   'email': 'dustin.tucker@example.com',\n",
       "   'login': {'uuid': 'd0953bca-d096-407c-aa66-06011aa3d2ca',\n",
       "    'username': 'whiteleopard744',\n",
       "    'password': 'prophet',\n",
       "    'salt': 'tuTiACJ4',\n",
       "    'md5': '0778987eb0a864d19a721d3187e9dbb7',\n",
       "    'sha1': '5c664682d6e9cde9984cf39f9af3a6075554d750',\n",
       "    'sha256': 'fa4077c9200f2e83a91db3363a185b5fcbcccab2645989e9fc72e8b7fa517ce0'},\n",
       "   'dob': {'date': '1962-05-12T19:20:01.805Z', 'age': 59},\n",
       "   'registered': {'date': '2014-02-21T06:16:59.280Z', 'age': 7},\n",
       "   'phone': '(785)-958-5821',\n",
       "   'cell': '(073)-757-1549',\n",
       "   'id': {'name': 'SSN', 'value': '053-45-5003'},\n",
       "   'picture': {'large': 'https://randomuser.me/api/portraits/men/68.jpg',\n",
       "    'medium': 'https://randomuser.me/api/portraits/med/men/68.jpg',\n",
       "    'thumbnail': 'https://randomuser.me/api/portraits/thumb/men/68.jpg'},\n",
       "   'nat': 'US'},\n",
       "  {'gender': 'male',\n",
       "   'name': {'title': 'Mr', 'first': 'Douglas', 'last': 'Stevens'},\n",
       "   'location': {'street': {'number': 3335, 'name': 'Royal Ln'},\n",
       "    'city': 'Glendale',\n",
       "    'state': 'Nevada',\n",
       "    'country': 'United States',\n",
       "    'postcode': 30966,\n",
       "    'coordinates': {'latitude': '60.1498', 'longitude': '82.0891'},\n",
       "    'timezone': {'offset': '-8:00',\n",
       "     'description': 'Pacific Time (US & Canada)'}},\n",
       "   'email': 'douglas.stevens@example.com',\n",
       "   'login': {'uuid': 'ac34974e-5f88-40e5-9b26-79ebf8b5aabc',\n",
       "    'username': 'organicgorilla700',\n",
       "    'password': 'bonovox',\n",
       "    'salt': '24WQsaa7',\n",
       "    'md5': '53e08cb26704dd77737779551a03e036',\n",
       "    'sha1': '0ca3d7db1c5573e173a0d8e4faeb43011ab929d7',\n",
       "    'sha256': 'b74eefb08e089b670208ce27b1e2ff89e840b6f6ca34bf14e7a9dc412c33e8dc'},\n",
       "   'dob': {'date': '1965-01-01T08:18:18.071Z', 'age': 56},\n",
       "   'registered': {'date': '2010-09-26T12:49:36.117Z', 'age': 11},\n",
       "   'phone': '(105)-867-8885',\n",
       "   'cell': '(911)-622-7606',\n",
       "   'id': {'name': 'SSN', 'value': '600-34-5304'},\n",
       "   'picture': {'large': 'https://randomuser.me/api/portraits/men/11.jpg',\n",
       "    'medium': 'https://randomuser.me/api/portraits/med/men/11.jpg',\n",
       "    'thumbnail': 'https://randomuser.me/api/portraits/thumb/men/11.jpg'},\n",
       "   'nat': 'US'},\n",
       "  {'gender': 'male',\n",
       "   'name': {'title': 'Mr', 'first': 'Lucas', 'last': 'Scott'},\n",
       "   'location': {'street': {'number': 2091, 'name': 'Dogwood Ave'},\n",
       "    'city': 'Anna',\n",
       "    'state': 'Iowa',\n",
       "    'country': 'United States',\n",
       "    'postcode': 36868,\n",
       "    'coordinates': {'latitude': '3.9400', 'longitude': '179.2198'},\n",
       "    'timezone': {'offset': '+3:30', 'description': 'Tehran'}},\n",
       "   'email': 'lucas.scott@example.com',\n",
       "   'login': {'uuid': '8d9d310b-6b9c-4196-b185-788015c4d25b',\n",
       "    'username': 'goldenpeacock981',\n",
       "    'password': 'renee',\n",
       "    'salt': 'rs2sH3OR',\n",
       "    'md5': 'c7e141ddec4c349062c03a0e8e1a071c',\n",
       "    'sha1': 'f68b015473454bdb2d21727cd15b25fa6d6ebc44',\n",
       "    'sha256': 'bc462d9590b0134f65669b88355877a402382fa73a08968ecacf9996967b0ed4'},\n",
       "   'dob': {'date': '1961-03-09T05:03:29.091Z', 'age': 60},\n",
       "   'registered': {'date': '2005-05-05T18:05:49.107Z', 'age': 16},\n",
       "   'phone': '(258)-742-0967',\n",
       "   'cell': '(012)-935-8194',\n",
       "   'id': {'name': 'SSN', 'value': '340-98-3252'},\n",
       "   'picture': {'large': 'https://randomuser.me/api/portraits/men/65.jpg',\n",
       "    'medium': 'https://randomuser.me/api/portraits/med/men/65.jpg',\n",
       "    'thumbnail': 'https://randomuser.me/api/portraits/thumb/men/65.jpg'},\n",
       "   'nat': 'US'},\n",
       "  {'gender': 'male',\n",
       "   'name': {'title': 'Mr', 'first': 'Carlos', 'last': 'Wallace'},\n",
       "   'location': {'street': {'number': 7432, 'name': 'Adams St'},\n",
       "    'city': 'Surrey',\n",
       "    'state': 'Louisiana',\n",
       "    'country': 'United States',\n",
       "    'postcode': 23965,\n",
       "    'coordinates': {'latitude': '-24.5802', 'longitude': '21.5875'},\n",
       "    'timezone': {'offset': '-5:00',\n",
       "     'description': 'Eastern Time (US & Canada), Bogota, Lima'}},\n",
       "   'email': 'carlos.wallace@example.com',\n",
       "   'login': {'uuid': '3deca400-e296-4a67-9209-dacdce9f1294',\n",
       "    'username': 'brownbear690',\n",
       "    'password': 'shelby',\n",
       "    'salt': '0dMJl8kS',\n",
       "    'md5': '7793146d02a8385ba481606cd9bdbda8',\n",
       "    'sha1': '2a61dbaf46eb3e181793e42d528cd2f81b72f5af',\n",
       "    'sha256': '461025fe37b01653e69475ed9821dcbe3565e1d1f65f78b8538f30bba3741f2c'},\n",
       "   'dob': {'date': '1971-11-29T04:29:25.102Z', 'age': 50},\n",
       "   'registered': {'date': '2017-03-23T05:32:35.013Z', 'age': 4},\n",
       "   'phone': '(220)-446-4409',\n",
       "   'cell': '(328)-128-0313',\n",
       "   'id': {'name': 'SSN', 'value': '232-67-1831'},\n",
       "   'picture': {'large': 'https://randomuser.me/api/portraits/men/56.jpg',\n",
       "    'medium': 'https://randomuser.me/api/portraits/med/men/56.jpg',\n",
       "    'thumbnail': 'https://randomuser.me/api/portraits/thumb/men/56.jpg'},\n",
       "   'nat': 'US'},\n",
       "  {'gender': 'male',\n",
       "   'name': {'title': 'Mr', 'first': 'Brent', 'last': 'Sims'},\n",
       "   'location': {'street': {'number': 6331, 'name': 'Spring St'},\n",
       "    'city': 'Minneapolis',\n",
       "    'state': 'Alabama',\n",
       "    'country': 'United States',\n",
       "    'postcode': 23633,\n",
       "    'coordinates': {'latitude': '-48.6464', 'longitude': '84.6235'},\n",
       "    'timezone': {'offset': '-9:00', 'description': 'Alaska'}},\n",
       "   'email': 'brent.sims@example.com',\n",
       "   'login': {'uuid': 'b1990067-8406-46ad-9320-4444d48eabb5',\n",
       "    'username': 'beautifuldog822',\n",
       "    'password': 'toledo',\n",
       "    'salt': '9Gdwf5Gv',\n",
       "    'md5': '9fa8c30584cd83becd92ae88c06b81a4',\n",
       "    'sha1': '526f726574a26dbdc7202f6f47c913753551c7a4',\n",
       "    'sha256': 'a273da6897c2155fabf59541202fc71bd9c2bef6b1c9efbac9ae6a1d7e440cfc'},\n",
       "   'dob': {'date': '1989-06-05T19:28:24.304Z', 'age': 32},\n",
       "   'registered': {'date': '2007-08-21T01:46:30.143Z', 'age': 14},\n",
       "   'phone': '(509)-033-0709',\n",
       "   'cell': '(246)-135-4436',\n",
       "   'id': {'name': 'SSN', 'value': '273-89-0692'},\n",
       "   'picture': {'large': 'https://randomuser.me/api/portraits/men/96.jpg',\n",
       "    'medium': 'https://randomuser.me/api/portraits/med/men/96.jpg',\n",
       "    'thumbnail': 'https://randomuser.me/api/portraits/thumb/men/96.jpg'},\n",
       "   'nat': 'US'},\n",
       "  {'gender': 'male',\n",
       "   'name': {'title': 'Mr', 'first': 'Cory', 'last': 'Hunt'},\n",
       "   'location': {'street': {'number': 4420, 'name': 'Sunset St'},\n",
       "    'city': 'Oceanside',\n",
       "    'state': 'Oklahoma',\n",
       "    'country': 'United States',\n",
       "    'postcode': 45803,\n",
       "    'coordinates': {'latitude': '44.4005', 'longitude': '172.4645'},\n",
       "    'timezone': {'offset': '-2:00', 'description': 'Mid-Atlantic'}},\n",
       "   'email': 'cory.hunt@example.com',\n",
       "   'login': {'uuid': '42a38ec6-40fa-4c02-bf58-e2f7571fd538',\n",
       "    'username': 'ticklishelephant415',\n",
       "    'password': 'carmel',\n",
       "    'salt': 'Jgrz9mbL',\n",
       "    'md5': '6beda455adf7716254b9ff5f91f4b327',\n",
       "    'sha1': 'a7a3c5cb46ca815dc71836f40db1608d4b361251',\n",
       "    'sha256': '81e39639b9697e2ee3caa300f066ca4cbe700b6a816e1c75190c19902f89a91f'},\n",
       "   'dob': {'date': '1989-05-08T15:17:22.550Z', 'age': 32},\n",
       "   'registered': {'date': '2013-04-28T18:40:38.246Z', 'age': 8},\n",
       "   'phone': '(964)-469-7986',\n",
       "   'cell': '(688)-772-3989',\n",
       "   'id': {'name': 'SSN', 'value': '364-51-4767'},\n",
       "   'picture': {'large': 'https://randomuser.me/api/portraits/men/72.jpg',\n",
       "    'medium': 'https://randomuser.me/api/portraits/med/men/72.jpg',\n",
       "    'thumbnail': 'https://randomuser.me/api/portraits/thumb/men/72.jpg'},\n",
       "   'nat': 'US'},\n",
       "  {'gender': 'male',\n",
       "   'name': {'title': 'Mr', 'first': 'Lester', 'last': 'Gregory'},\n",
       "   'location': {'street': {'number': 6696, 'name': 'Harrison Ct'},\n",
       "    'city': 'Wichita Falls',\n",
       "    'state': 'Alabama',\n",
       "    'country': 'United States',\n",
       "    'postcode': 48620,\n",
       "    'coordinates': {'latitude': '-46.4489', 'longitude': '53.1119'},\n",
       "    'timezone': {'offset': '+5:00',\n",
       "     'description': 'Ekaterinburg, Islamabad, Karachi, Tashkent'}},\n",
       "   'email': 'lester.gregory@example.com',\n",
       "   'login': {'uuid': '2e3b0e52-f099-43f2-bc30-a8d933077977',\n",
       "    'username': 'blacksnake961',\n",
       "    'password': 'startrek',\n",
       "    'salt': 'cISZT9V3',\n",
       "    'md5': 'a548358eb935e0a33afe344dede909e0',\n",
       "    'sha1': 'f20b0e453d5512d495b680bc21d39c9de475bfea',\n",
       "    'sha256': '38af9fff1475c631b6b734dc6d82809eba8b5733ef8393b39fe7de4e9aac2d1b'},\n",
       "   'dob': {'date': '1985-09-10T11:34:47.164Z', 'age': 36},\n",
       "   'registered': {'date': '2012-06-18T07:11:21.154Z', 'age': 9},\n",
       "   'phone': '(550)-465-3082',\n",
       "   'cell': '(624)-103-6643',\n",
       "   'id': {'name': 'SSN', 'value': '238-00-3354'},\n",
       "   'picture': {'large': 'https://randomuser.me/api/portraits/men/89.jpg',\n",
       "    'medium': 'https://randomuser.me/api/portraits/med/men/89.jpg',\n",
       "    'thumbnail': 'https://randomuser.me/api/portraits/thumb/men/89.jpg'},\n",
       "   'nat': 'US'},\n",
       "  {'gender': 'male',\n",
       "   'name': {'title': 'Mr', 'first': 'Wesley', 'last': 'Richards'},\n",
       "   'location': {'street': {'number': 8710, 'name': 'Brown Terrace'},\n",
       "    'city': 'Alexandria',\n",
       "    'state': 'Florida',\n",
       "    'country': 'United States',\n",
       "    'postcode': 59554,\n",
       "    'coordinates': {'latitude': '-81.1372', 'longitude': '153.5878'},\n",
       "    'timezone': {'offset': '-3:30', 'description': 'Newfoundland'}},\n",
       "   'email': 'wesley.richards@example.com',\n",
       "   'login': {'uuid': '64d13e16-1535-43bc-ad52-b1d2ac802f80',\n",
       "    'username': 'silvergorilla428',\n",
       "    'password': 'monarch',\n",
       "    'salt': 'xfKOAU79',\n",
       "    'md5': 'a5c83177a147a7752f47d77042f65005',\n",
       "    'sha1': 'c5ba007749489145b2482a9d8583805f03118992',\n",
       "    'sha256': '231b80d3cbf7307f29520317a1f5ac18c65bd8386e777c5e9cf2282ebb572d67'},\n",
       "   'dob': {'date': '1976-11-30T07:55:08.725Z', 'age': 45},\n",
       "   'registered': {'date': '2008-02-10T03:30:30.573Z', 'age': 13},\n",
       "   'phone': '(457)-382-3506',\n",
       "   'cell': '(096)-937-6954',\n",
       "   'id': {'name': 'SSN', 'value': '838-85-7295'},\n",
       "   'picture': {'large': 'https://randomuser.me/api/portraits/men/40.jpg',\n",
       "    'medium': 'https://randomuser.me/api/portraits/med/men/40.jpg',\n",
       "    'thumbnail': 'https://randomuser.me/api/portraits/thumb/men/40.jpg'},\n",
       "   'nat': 'US'}],\n",
       " 'info': {'seed': '45beb2d965f640d2',\n",
       "  'results': 10,\n",
       "  'page': 1,\n",
       "  'version': '1.3'}}"
      ]
     },
     "metadata": {},
     "execution_count": 56
    }
   ],
   "source": [
    "data"
   ]
  },
  {
   "cell_type": "code",
   "execution_count": 65,
   "metadata": {},
   "outputs": [
    {
     "output_type": "stream",
     "name": "stdout",
     "text": [
      "Chris\nRon\nDustin\nDouglas\nLucas\nCarlos\nBrent\nCory\nLester\nWesley\n"
     ]
    }
   ],
   "source": [
    "# Loop through the dictionary and print all first names\n",
    "\n",
    "for value in range(0,10):\n",
    "    print(data['results'][value]['name']['first'])"
   ]
  },
  {
   "cell_type": "code",
   "execution_count": 61,
   "metadata": {},
   "outputs": [
    {
     "output_type": "execute_result",
     "data": {
      "text/plain": [
       "'Ron'"
      ]
     },
     "metadata": {},
     "execution_count": 61
    }
   ],
   "source": []
  },
  {
   "cell_type": "code",
   "execution_count": 70,
   "metadata": {},
   "outputs": [],
   "source": [
    "astro = requests.get(\"http://api.open-notify.org/astros.json\")\n",
    "astro_json = json.loads(astro.text)"
   ]
  },
  {
   "cell_type": "code",
   "execution_count": 73,
   "metadata": {},
   "outputs": [
    {
     "output_type": "execute_result",
     "data": {
      "text/plain": [
       "{'number': 7,\n",
       " 'message': 'success',\n",
       " 'people': [{'name': 'Mark Vande Hei', 'craft': 'ISS'},\n",
       "  {'name': 'Oleg Novitskiy', 'craft': 'ISS'},\n",
       "  {'name': 'Pyotr Dubrov', 'craft': 'ISS'},\n",
       "  {'name': 'Thomas Pesquet', 'craft': 'ISS'},\n",
       "  {'name': 'Megan McArthur', 'craft': 'ISS'},\n",
       "  {'name': 'Shane Kimbrough', 'craft': 'ISS'},\n",
       "  {'name': 'Akihiko Hoshide', 'craft': 'ISS'}]}"
      ]
     },
     "metadata": {},
     "execution_count": 73
    }
   ],
   "source": [
    "astro_json"
   ]
  },
  {
   "cell_type": "code",
   "execution_count": 74,
   "metadata": {},
   "outputs": [
    {
     "output_type": "stream",
     "name": "stdout",
     "text": [
      "7\n"
     ]
    }
   ],
   "source": [
    "# Number of people in space\n",
    "print(astro_json['number'])"
   ]
  },
  {
   "cell_type": "code",
   "execution_count": 78,
   "metadata": {},
   "outputs": [
    {
     "output_type": "stream",
     "name": "stdout",
     "text": [
      "Mark Vande Hei\nOleg Novitskiy\nPyotr Dubrov\nThomas Pesquet\nMegan McArthur\nShane Kimbrough\nAkihiko Hoshide\n"
     ]
    }
   ],
   "source": [
    "for value in range(0,astro_json['number']):\n",
    "    print(astro_json['people'][value]['name'])"
   ]
  },
  {
   "cell_type": "code",
   "execution_count": 81,
   "metadata": {},
   "outputs": [],
   "source": [
    "iss = requests.get(\"http://api.open-notify.org/iss-now.json\")\n",
    "iss_json = json.loads(iss.text)"
   ]
  },
  {
   "cell_type": "code",
   "execution_count": 82,
   "metadata": {},
   "outputs": [
    {
     "output_type": "execute_result",
     "data": {
      "text/plain": [
       "{'message': 'success',\n",
       " 'iss_position': {'longitude': '33.5935', 'latitude': '-51.6180'},\n",
       " 'timestamp': 1621157023}"
      ]
     },
     "metadata": {},
     "execution_count": 82
    }
   ],
   "source": [
    "iss_json"
   ]
  },
  {
   "cell_type": "code",
   "execution_count": 83,
   "metadata": {},
   "outputs": [
    {
     "output_type": "execute_result",
     "data": {
      "text/plain": [
       "'33.5935'"
      ]
     },
     "metadata": {},
     "execution_count": 83
    }
   ],
   "source": [
    "iss_json['iss_position']['longitude']"
   ]
  },
  {
   "cell_type": "code",
   "execution_count": 96,
   "metadata": {},
   "outputs": [],
   "source": [
    "list_names= []\n",
    "for value in range(0,astro_json['number']):\n",
    "    list_names.append(astro_json['people'][value]['name'])\n"
   ]
  },
  {
   "cell_type": "code",
   "execution_count": 102,
   "metadata": {},
   "outputs": [],
   "source": [
    "df = pd.read_json(\"http://api.open-notify.org/iss-now.json\")"
   ]
  },
  {
   "cell_type": "code",
   "execution_count": 103,
   "metadata": {},
   "outputs": [
    {
     "output_type": "execute_result",
     "data": {
      "text/plain": [
       "           iss_position  message           timestamp\n",
       "latitude       -44.7475  success 2021-05-16 14:09:21\n",
       "longitude        0.4386  success 2021-05-16 14:09:21"
      ],
      "text/html": "<div>\n<style scoped>\n    .dataframe tbody tr th:only-of-type {\n        vertical-align: middle;\n    }\n\n    .dataframe tbody tr th {\n        vertical-align: top;\n    }\n\n    .dataframe thead th {\n        text-align: right;\n    }\n</style>\n<table border=\"1\" class=\"dataframe\">\n  <thead>\n    <tr style=\"text-align: right;\">\n      <th></th>\n      <th>iss_position</th>\n      <th>message</th>\n      <th>timestamp</th>\n    </tr>\n  </thead>\n  <tbody>\n    <tr>\n      <th>latitude</th>\n      <td>-44.7475</td>\n      <td>success</td>\n      <td>2021-05-16 14:09:21</td>\n    </tr>\n    <tr>\n      <th>longitude</th>\n      <td>0.4386</td>\n      <td>success</td>\n      <td>2021-05-16 14:09:21</td>\n    </tr>\n  </tbody>\n</table>\n</div>"
     },
     "metadata": {},
     "execution_count": 103
    }
   ],
   "source": [
    "df"
   ]
  },
  {
   "cell_type": "code",
   "execution_count": 104,
   "metadata": {},
   "outputs": [
    {
     "output_type": "execute_result",
     "data": {
      "text/plain": [
       "{'message': 'success',\n",
       " 'iss_position': {'longitude': '33.5935', 'latitude': '-51.6180'},\n",
       " 'timestamp': 1621157023}"
      ]
     },
     "metadata": {},
     "execution_count": 104
    }
   ],
   "source": [
    "iss_json"
   ]
  },
  {
   "cell_type": "code",
   "execution_count": null,
   "metadata": {},
   "outputs": [],
   "source": []
  }
 ]
}